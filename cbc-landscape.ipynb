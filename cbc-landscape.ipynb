{
 "cells": [
  {
   "cell_type": "code",
   "execution_count": 1,
   "metadata": {},
   "outputs": [
    {
     "ename": "KeyboardInterrupt",
     "evalue": "",
     "output_type": "error",
     "traceback": [
      "\u001b[0;31m---------------------------------------------------------------------------\u001b[0m",
      "\u001b[0;31mKeyboardInterrupt\u001b[0m                         Traceback (most recent call last)",
      "Cell \u001b[0;32mIn[1], line 1\u001b[0m\n\u001b[0;32m----> 1\u001b[0m \u001b[38;5;28;01mimport\u001b[39;00m \u001b[38;5;21;01mnumpy\u001b[39;00m \u001b[38;5;28;01mas\u001b[39;00m \u001b[38;5;21;01mnp\u001b[39;00m\n\u001b[1;32m      2\u001b[0m \u001b[38;5;28;01mimport\u001b[39;00m \u001b[38;5;21;01mmatplotlib\u001b[39;00m\u001b[38;5;21;01m.\u001b[39;00m\u001b[38;5;21;01mpyplot\u001b[39;00m \u001b[38;5;28;01mas\u001b[39;00m \u001b[38;5;21;01mplt\u001b[39;00m\n\u001b[1;32m      3\u001b[0m \u001b[38;5;28;01mfrom\u001b[39;00m \u001b[38;5;21;01mmatplotlib\u001b[39;00m \u001b[38;5;28;01mimport\u001b[39;00m rc\n",
      "File \u001b[0;32m/opt/miniconda3/envs/work/lib/python3.9/site-packages/numpy/__init__.py:144\u001b[0m\n\u001b[1;32m    142\u001b[0m \u001b[38;5;28;01mfrom\u001b[39;00m \u001b[38;5;21;01m.\u001b[39;00m\u001b[38;5;21;01mcore\u001b[39;00m \u001b[38;5;28;01mimport\u001b[39;00m \u001b[38;5;241m*\u001b[39m\n\u001b[1;32m    143\u001b[0m \u001b[38;5;28;01mfrom\u001b[39;00m \u001b[38;5;21;01m.\u001b[39;00m \u001b[38;5;28;01mimport\u001b[39;00m compat\n\u001b[0;32m--> 144\u001b[0m \u001b[38;5;28;01mfrom\u001b[39;00m \u001b[38;5;21;01m.\u001b[39;00m \u001b[38;5;28;01mimport\u001b[39;00m lib\n\u001b[1;32m    145\u001b[0m \u001b[38;5;66;03m# NOTE: to be revisited following future namespace cleanup.\u001b[39;00m\n\u001b[1;32m    146\u001b[0m \u001b[38;5;66;03m# See gh-14454 and gh-15672 for discussion.\u001b[39;00m\n\u001b[1;32m    147\u001b[0m \u001b[38;5;28;01mfrom\u001b[39;00m \u001b[38;5;21;01m.\u001b[39;00m\u001b[38;5;21;01mlib\u001b[39;00m \u001b[38;5;28;01mimport\u001b[39;00m \u001b[38;5;241m*\u001b[39m\n",
      "File \u001b[0;32m/opt/miniconda3/envs/work/lib/python3.9/site-packages/numpy/lib/__init__.py:20\u001b[0m\n\u001b[1;32m     16\u001b[0m \u001b[38;5;28;01mfrom\u001b[39;00m \u001b[38;5;21;01mnumpy\u001b[39;00m\u001b[38;5;21;01m.\u001b[39;00m\u001b[38;5;21;01mversion\u001b[39;00m \u001b[38;5;28;01mimport\u001b[39;00m version \u001b[38;5;28;01mas\u001b[39;00m __version__\n\u001b[1;32m     18\u001b[0m \u001b[38;5;66;03m# Public submodules\u001b[39;00m\n\u001b[1;32m     19\u001b[0m \u001b[38;5;66;03m# Note: recfunctions and (maybe) format are public too, but not imported\u001b[39;00m\n\u001b[0;32m---> 20\u001b[0m \u001b[38;5;28;01mfrom\u001b[39;00m \u001b[38;5;21;01m.\u001b[39;00m \u001b[38;5;28;01mimport\u001b[39;00m mixins\n\u001b[1;32m     21\u001b[0m \u001b[38;5;28;01mfrom\u001b[39;00m \u001b[38;5;21;01m.\u001b[39;00m \u001b[38;5;28;01mimport\u001b[39;00m scimath \u001b[38;5;28;01mas\u001b[39;00m emath\n\u001b[1;32m     23\u001b[0m \u001b[38;5;66;03m# Private submodules\u001b[39;00m\n\u001b[1;32m     24\u001b[0m \u001b[38;5;66;03m# load module names. See https://github.com/networkx/networkx/issues/5838\u001b[39;00m\n",
      "File \u001b[0;32m<frozen importlib._bootstrap>:1007\u001b[0m, in \u001b[0;36m_find_and_load\u001b[0;34m(name, import_)\u001b[0m\n",
      "File \u001b[0;32m<frozen importlib._bootstrap>:986\u001b[0m, in \u001b[0;36m_find_and_load_unlocked\u001b[0;34m(name, import_)\u001b[0m\n",
      "File \u001b[0;32m<frozen importlib._bootstrap>:680\u001b[0m, in \u001b[0;36m_load_unlocked\u001b[0;34m(spec)\u001b[0m\n",
      "File \u001b[0;32m<frozen importlib._bootstrap_external>:846\u001b[0m, in \u001b[0;36mexec_module\u001b[0;34m(self, module)\u001b[0m\n",
      "File \u001b[0;32m<frozen importlib._bootstrap_external>:941\u001b[0m, in \u001b[0;36mget_code\u001b[0;34m(self, fullname)\u001b[0m\n",
      "File \u001b[0;32m<frozen importlib._bootstrap_external>:1040\u001b[0m, in \u001b[0;36mget_data\u001b[0;34m(self, path)\u001b[0m\n",
      "\u001b[0;31mKeyboardInterrupt\u001b[0m: "
     ]
    }
   ],
   "source": [
    "import numpy as np\n",
    "import matplotlib.pyplot as plt\n",
    "from matplotlib import rc\n",
    "from scipy.special import erf\n",
    "from matplotlib.patches import Ellipse\n",
    "from scipy.stats import gaussian_kde\n",
    "\n",
    "rc('font', **{'family': 'serif', 'serif': ['Computer Modern']})\n",
    "rc('text', usetex=True)"
   ]
  },
  {
   "cell_type": "code",
   "execution_count": null,
   "metadata": {},
   "outputs": [],
   "source": [
    "# Data generated using https://github.com/tcallister/get-lvk-data\n",
    "sampleDict = np.load('./../../get-lvk-data/sampleDict_FAR_1_in_1_yr.pickle',allow_pickle=True)\n",
    "sampleDict.keys()"
   ]
  },
  {
   "cell_type": "code",
   "execution_count": null,
   "metadata": {},
   "outputs": [],
   "source": [
    "fig,ax = plt.subplots(figsize=(18,6))\n",
    "\n",
    "colormap = plt.get_cmap('tab20b')\n",
    "ax.set_prop_cycle('color',plt.cm.tab20b(np.linspace(0,1,len(sampleDict))))\n",
    "\n",
    "for i,key in enumerate(list(sampleDict.keys())):\n",
    "    \n",
    "    if key[0]==\"G\":\n",
    "            \n",
    "        m1 = np.mean(sampleDict[key]['m1'])\n",
    "        m2 = np.mean(sampleDict[key]['m2'])\n",
    "        ax.scatter([i,i],[m1,m2],s=[max(10,0.5*m1**1.5),max(10,0.5*m2**1.5)])\n",
    "        ax.plot([i,i],[m1,m2],color='grey',lw=0.5,zorder=-1)\n",
    "        \n",
    "ax.axvline(x=13,color='grey',ls='--')\n",
    "ax.text(5,100,r\"\\bf{GWTC-1}\",horizontalalignment='center',verticalalignment='bottom',fontsize=18)\n",
    "ax.text(77,4,\"Tom Callister\",horizontalalignment='right',verticalalignment='bottom',fontsize=18)\n",
    "    \n",
    "ax.set_xlabel(r'Detection Number',fontsize=20)\n",
    "ax.set_ylabel(r'Binary Masses\\,$[M_\\odot]$',fontsize=20)\n",
    "ax.tick_params(axis='both', labelsize=16)\n",
    "ax.set_xlim(-3,79)\n",
    "ax.set_ylim(0,110)\n",
    "\n",
    "plt.savefig('cbc_landscape_gwtc1.pdf',bbox_inches='tight')"
   ]
  },
  {
   "cell_type": "code",
   "execution_count": null,
   "metadata": {},
   "outputs": [],
   "source": [
    "fig,ax = plt.subplots(figsize=(18,6))\n",
    "\n",
    "colormap = plt.get_cmap('tab20b')\n",
    "ax.set_prop_cycle('color',plt.cm.tab20b(np.linspace(0,1,len(sampleDict))))\n",
    "\n",
    "for i,key in enumerate(list(sampleDict.keys())):\n",
    "    \n",
    "    if key[0]==\"G\" or int(key[1:5])<1910:\n",
    "        \n",
    "        m1 = np.mean(sampleDict[key]['m1'])\n",
    "        m2 = np.mean(sampleDict[key]['m2'])\n",
    "        ax.scatter([i,i],[m1,m2],s=[max(10,0.5*m1**1.5),max(10,0.5*m2**1.5)])\n",
    "        ax.plot([i,i],[m1,m2],color='grey',lw=0.5,zorder=-1)\n",
    "    \n",
    "ax.axvline(x=53,color='grey',ls='--')\n",
    "ax.text(5,100,r\"GWTC-1\",horizontalalignment='center',verticalalignment='bottom',fontsize=18)\n",
    "ax.text(35,100,r\"\\bf{GWTC-2}\",horizontalalignment='center',verticalalignment='bottom',fontsize=18)\n",
    "ax.text(77,4,\"Tom Callister\",horizontalalignment='right',verticalalignment='bottom',fontsize=18)\n",
    "    \n",
    "ax.set_xlabel(r'Detection Number',fontsize=20)\n",
    "ax.set_ylabel(r'Binary Masses\\,$[M_\\odot]$',fontsize=20)\n",
    "ax.tick_params(axis='both', labelsize=16)\n",
    "ax.set_xlim(-3,79)\n",
    "ax.set_ylim(0,110)\n",
    "\n",
    "plt.savefig('cbc_landscape_gwtc2.pdf',bbox_inches='tight')"
   ]
  },
  {
   "cell_type": "code",
   "execution_count": null,
   "metadata": {},
   "outputs": [],
   "source": [
    "fig,ax = plt.subplots(figsize=(18,6))\n",
    "\n",
    "colormap = plt.get_cmap('tab20b')\n",
    "ax.set_prop_cycle('color',plt.cm.tab20b(np.linspace(0,1,len(sampleDict))))\n",
    "\n",
    "for i,key in enumerate(list(sampleDict.keys())):\n",
    "        \n",
    "    m1 = np.mean(sampleDict[key]['m1'])\n",
    "    m2 = np.mean(sampleDict[key]['m2'])\n",
    "    ax.scatter([i,i],[m1,m2],s=[max(10,0.5*m1**1.5),max(10,0.5*m2**1.5)])\n",
    "    ax.plot([i,i],[m1,m2],color='grey',lw=0.5,zorder=-1)\n",
    "    \n",
    "ax.text(5,100,r\"GWTC-1\",horizontalalignment='center',verticalalignment='bottom',fontsize=18)\n",
    "ax.text(35,100,r\"GWTC-2\",horizontalalignment='center',verticalalignment='bottom',fontsize=18)\n",
    "ax.text(68,100,r\"\\bf{GWTC-3}\",horizontalalignment='center',verticalalignment='bottom',fontsize=18)\n",
    "t = ax.text(77,4,\"Tom Callister\",horizontalalignment='right',verticalalignment='bottom',fontsize=18)\n",
    "t.set_bbox(dict(facecolor='white', alpha=0.5, edgecolor='None'))\n",
    "\n",
    "ax.set_xlabel(r'Detection Number',fontsize=20)\n",
    "ax.set_ylabel(r'Binary Masses\\,$[M_\\odot]$',fontsize=20)\n",
    "ax.tick_params(axis='both', labelsize=16)\n",
    "ax.set_xlim(-3,79)\n",
    "ax.set_ylim(0,110)\n",
    "\n",
    "plt.savefig('cbc_landscape_gwtc3.pdf',bbox_inches='tight')"
   ]
  },
  {
   "cell_type": "code",
   "execution_count": null,
   "metadata": {},
   "outputs": [],
   "source": [
    "fig,ax = plt.subplots(figsize=(18,6))\n",
    "\n",
    "colormap = plt.get_cmap('tab20b')\n",
    "\n",
    "#ax.set_prop_cycle([colormap(k) for k in np.linspace(0, 1, 10)])\n",
    "colors = plt.cm.tab20b(np.linspace(0,1,len(sampleDict)))\n",
    "for i,key in enumerate(list(sampleDict.keys())):\n",
    "    \n",
    "    m1 = sampleDict[key]['m1']\n",
    "    m2 = sampleDict[key]['m2']\n",
    "        \n",
    "    ellipse1 = Ellipse(xy=(i,np.mean(m1)),width=max(0.32,0.017*np.mean(m1)), height=max(1.4,4.*np.std(m1)), facecolor=colors[i],alpha=0.8)\n",
    "    ellipse2 = Ellipse(xy=(i,np.mean(m2)),width=max(0.32,0.017*np.mean(m2)), height=max(1.4,4.*np.std(m2)), facecolor=colors[i],alpha=0.8)\n",
    "    \n",
    "    ax.add_artist(ellipse1)\n",
    "    ax.add_artist(ellipse2)\n",
    "    \n",
    "    ax.text(i,np.mean(m1),\"?\",color='white',fontsize=int(13*(np.mean(m1)/40.)),horizontalalignment='center')\n",
    "    ax.text(i,np.mean(m2),\"?\",color='white',fontsize=int(13*(np.mean(m2)/40.)),horizontalalignment='center')\n",
    "    \n",
    "t = ax.text(77,4,\"Tom Callister\",horizontalalignment='right',verticalalignment='bottom',fontsize=18)\n",
    "t.set_bbox(dict(facecolor='white', alpha=0.5, edgecolor='None'))\n",
    "    \n",
    "ax.set_xlabel(r'Detection Number',fontsize=20)\n",
    "ax.set_ylabel(r'Binary Masses\\,$[M_\\odot]$',fontsize=20)\n",
    "ax.tick_params(axis='both', labelsize=16)\n",
    "ax.set_xlim(-3,79)\n",
    "ax.set_ylim(0,110)\n",
    "\n",
    "plt.savefig('cbc_landscape_gwtc3_with_errors.pdf',bbox_inches='tight')"
   ]
  },
  {
   "cell_type": "code",
   "execution_count": null,
   "metadata": {},
   "outputs": [],
   "source": []
  }
 ],
 "metadata": {
  "kernelspec": {
   "display_name": "Python 3 (ipykernel)",
   "language": "python",
   "name": "python3"
  },
  "language_info": {
   "codemirror_mode": {
    "name": "ipython",
    "version": 3
   },
   "file_extension": ".py",
   "mimetype": "text/x-python",
   "name": "python",
   "nbconvert_exporter": "python",
   "pygments_lexer": "ipython3",
   "version": "3.9.16"
  }
 },
 "nbformat": 4,
 "nbformat_minor": 2
}
